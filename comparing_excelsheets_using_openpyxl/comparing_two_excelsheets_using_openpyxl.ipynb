{
 "cells": [
  {
   "cell_type": "code",
   "id": "initial_id",
   "metadata": {
    "collapsed": true,
    "ExecuteTime": {
     "end_time": "2025-10-20T07:46:54.161883Z",
     "start_time": "2025-10-20T07:46:54.158989Z"
    }
   },
   "source": [
    "import openpyxl\n",
    "from openpyxl.styles import PatternFill #since we want to highlight some cells we import the PatternFill"
   ],
   "outputs": [],
   "execution_count": 14
  },
  {
   "metadata": {
    "ExecuteTime": {
     "end_time": "2025-10-20T07:46:54.211293Z",
     "start_time": "2025-10-20T07:46:54.168959Z"
    }
   },
   "cell_type": "code",
   "source": [
    "#let's load the workbooks that we are going to compare\n",
    "wb1 = openpyxl.load_workbook('Data_for_Practice.xlsx')\n",
    "wb2 = openpyxl.load_workbook('Data_for_Practice_2.xlsx')"
   ],
   "id": "b2274d4ac54a7aa1",
   "outputs": [],
   "execution_count": 15
  },
  {
   "metadata": {
    "ExecuteTime": {
     "end_time": "2025-10-20T07:46:54.216388Z",
     "start_time": "2025-10-20T07:46:54.214825Z"
    }
   },
   "cell_type": "code",
   "source": "fill_style = PatternFill(start_color=\"FDD835\", end_color=\"FDD835\", fill_type=\"solid\")",
   "id": "6ef857cd9ce6c358",
   "outputs": [],
   "execution_count": 16
  },
  {
   "metadata": {
    "ExecuteTime": {
     "end_time": "2025-10-20T07:46:54.222633Z",
     "start_time": "2025-10-20T07:46:54.221224Z"
    }
   },
   "cell_type": "code",
   "source": [
    "#now let's select the sheets to compare\n",
    "ws1 = wb1['Problem']\n",
    "ws2 = wb2['Problem']"
   ],
   "id": "5978a432878ea9a4",
   "outputs": [],
   "execution_count": 17
  },
  {
   "metadata": {
    "ExecuteTime": {
     "end_time": "2025-10-20T07:46:54.229207Z",
     "start_time": "2025-10-20T07:46:54.225624Z"
    }
   },
   "cell_type": "code",
   "source": [
    "#let's run a loop\n",
    "for row in ws1.iter_rows():\n",
    "    for cell in row:\n",
    "        current_cell_value = cell.value\n",
    "        cell_location = cell.coordinate\n",
    "        if current_cell_value != ws2[cell_location].value:\n",
    "            cell.fill = fill_style"
   ],
   "id": "64b139870831a39f",
   "outputs": [],
   "execution_count": 18
  },
  {
   "metadata": {
    "ExecuteTime": {
     "end_time": "2025-10-20T07:48:11.841375Z",
     "start_time": "2025-10-20T07:48:11.806508Z"
    }
   },
   "cell_type": "code",
   "source": "wb1.save(\"compared_data.xlsx\")",
   "id": "f9c4dfae0fb43273",
   "outputs": [],
   "execution_count": 20
  },
  {
   "metadata": {},
   "cell_type": "code",
   "outputs": [],
   "execution_count": null,
   "source": "",
   "id": "91217f0578eb06e1"
  }
 ],
 "metadata": {
  "kernelspec": {
   "display_name": "Python 3",
   "language": "python",
   "name": "python3"
  },
  "language_info": {
   "codemirror_mode": {
    "name": "ipython",
    "version": 2
   },
   "file_extension": ".py",
   "mimetype": "text/x-python",
   "name": "python",
   "nbconvert_exporter": "python",
   "pygments_lexer": "ipython2",
   "version": "2.7.6"
  }
 },
 "nbformat": 4,
 "nbformat_minor": 5
}
