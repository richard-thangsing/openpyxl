{
 "cells": [
  {
   "cell_type": "code",
   "id": "initial_id",
   "metadata": {
    "collapsed": true,
    "ExecuteTime": {
     "end_time": "2025-10-17T10:09:50.812584Z",
     "start_time": "2025-10-17T10:09:50.501625Z"
    }
   },
   "source": [
    "# we want to work with the openpyxl module so let's import that\n",
    "from openpyxl import Workbook, load_workbook"
   ],
   "outputs": [],
   "execution_count": 1
  },
  {
   "metadata": {
    "ExecuteTime": {
     "end_time": "2025-10-17T10:22:22.142846Z",
     "start_time": "2025-10-17T10:22:22.138255Z"
    }
   },
   "cell_type": "code",
   "source": "file_name = 'produce_sales.xlsx'",
   "id": "37bf692155050ce8",
   "outputs": [],
   "execution_count": 3
  },
  {
   "metadata": {
    "ExecuteTime": {
     "end_time": "2025-10-17T10:23:47.385627Z",
     "start_time": "2025-10-17T10:23:46.916124Z"
    }
   },
   "cell_type": "code",
   "source": [
    "wb = load_workbook('produce_sales.xlsx')\n",
    "ws = wb.active #or sheet = wb['Sheet_name']"
   ],
   "id": "fad927126f1212e9",
   "outputs": [],
   "execution_count": 4
  },
  {
   "metadata": {
    "ExecuteTime": {
     "end_time": "2025-10-17T10:31:57.703932Z",
     "start_time": "2025-10-17T10:31:57.692402Z"
    }
   },
   "cell_type": "code",
   "source": [
    "#suppose we are given the task of updating the prices of a few items on the list:\n",
    "PRICE_UPDATES = {'Eggplant' : 4.12,\n",
    "                 'Fava beans' : 3.50,\n",
    "                 'Lime' : 2.16,\n",
    "                 'Strawberries' : 5.1}"
   ],
   "id": "30d6190f15273edb",
   "outputs": [],
   "execution_count": 5
  },
  {
   "metadata": {
    "ExecuteTime": {
     "end_time": "2025-10-17T10:42:17.000665Z",
     "start_time": "2025-10-17T10:42:16.965673Z"
    }
   },
   "cell_type": "code",
   "source": [
    "for row_no in range (2, ws.max_row): #2 as our spreadsheet has a header\n",
    "    produceName = ws.cell(row = row_no, column = 1).value\n",
    "    if produceName in PRICE_UPDATES:\n",
    "        ws.cell(row=row_no, column =2).value = PRICE_UPDATES[produceName]"
   ],
   "id": "f87066fc6dff5194",
   "outputs": [],
   "execution_count": 6
  },
  {
   "metadata": {
    "ExecuteTime": {
     "end_time": "2025-10-17T10:45:07.871931Z",
     "start_time": "2025-10-17T10:45:07.415267Z"
    }
   },
   "cell_type": "code",
   "source": "wb.save('produce_sales_updatedPrice.xlsx') #this will generate a new sheet with updated price without overwriting the old one.",
   "id": "575ccb64caa95eef",
   "outputs": [],
   "execution_count": 7
  }
 ],
 "metadata": {
  "kernelspec": {
   "display_name": "Python 3",
   "language": "python",
   "name": "python3"
  },
  "language_info": {
   "codemirror_mode": {
    "name": "ipython",
    "version": 2
   },
   "file_extension": ".py",
   "mimetype": "text/x-python",
   "name": "python",
   "nbconvert_exporter": "python",
   "pygments_lexer": "ipython2",
   "version": "2.7.6"
  }
 },
 "nbformat": 4,
 "nbformat_minor": 5
}
